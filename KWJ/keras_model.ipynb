{
 "cells": [
  {
   "cell_type": "code",
   "execution_count": 1,
   "metadata": {},
   "outputs": [
    {
     "name": "stderr",
     "output_type": "stream",
     "text": [
      "Using TensorFlow backend.\n"
     ]
    }
   ],
   "source": [
    "import cv2, time, numpy as np\n",
    "from keras.models import Sequential, Model, Model\n"
   ]
  },
  {
   "cell_type": "code",
   "execution_count": 2,
   "metadata": {},
   "outputs": [],
   "source": [
    "frame_size=np.array([960,720])\n",
    "flmk = {'nose_tip': [(498, 315)], 'left_eye': [(405, 254), (451, 242)], 'right_eye': [(582, 204), (530, 221)]}\n",
    "KL=[]\n",
    "KL.append(np.array(flmk['nose_tip'][0]))\n",
    "KL.append(np.array((np.array(flmk['left_eye'][0])+np.array(flmk['left_eye'][1]))*0.5,dtype=np.int32))\n",
    "KL.append(np.array((np.array(flmk['right_eye'][0])+np.array(flmk['right_eye'][1]))*0.5,dtype=np.int32))\n",
    "flmk=np.array(KL)#변환하느라 그랬고 실제로 들어오게될 flmk값은 이 값이 된다.\n",
    "\n",
    "flmk = flmk/frame_size"
   ]
  },
  {
   "cell_type": "code",
   "execution_count": 25,
   "metadata": {},
   "outputs": [
    {
     "name": "stdout",
     "output_type": "stream",
     "text": [
      "[[0.51875    0.4375    ]\n",
      " [0.44583333 0.34444444]\n",
      " [0.57916667 0.29444444]]\n",
      "[960 720]\n"
     ]
    }
   ],
   "source": [
    "print(flmk)\n",
    "print(frame_size)"
   ]
  },
  {
   "cell_type": "code",
   "execution_count": 26,
   "metadata": {},
   "outputs": [
    {
     "name": "stdout",
     "output_type": "stream",
     "text": [
      "0.11822088097087953 0.15529026236831384\n"
     ]
    }
   ],
   "source": [
    "left_dist = np.linalg.norm(flmk[0]-flmk[1])\n",
    "right_dist =np.linalg.norm(flmk[0]-flmk[2])\n",
    "eyes_dist = np.linalg.norm(flmk[1]-flmk[2])\n",
    "print(left_dist,right_dist)\n",
    "\n",
    "#눈 사이의 거리가 작을 경우\n",
    "if eyes_dist < 0.5:\n",
    "    wsgo = 'w'\n",
    "#눈 사이의 거리가  클  경우\n",
    "elif eyes_dist > 0.5:\n",
    "    wsgo = 's'\n",
    "else:wsgo = None\n",
    "\n",
    "#코가  왼쪽에  있는 경우\n",
    "if flmk[0][0] < 0.5:\n",
    "    adgo = 'a'\n",
    "#코가 오른쪽에 있는 경우\n",
    "elif flmk[0][0] > 0.5:\n",
    "    adgo = 'd'\n",
    "else:adgo = None\n",
    "\n",
    "#코가  위에  있을 경우\n",
    "if flmk[0][1] < 0.5:\n",
    "    udgo = 'd'\n",
    "#코가 아래에 있을 경우\n",
    "elif flmk[0][1] > 0.5:\n",
    "    udgo = 'u'\n",
    "else:udgo = None\n",
    "\n",
    "#왼쪽 눈이 오른쪽보다 코에 더 가까운 경우\n",
    "if left_dist < right_dist:\n",
    "    lrgo = 'r'\n",
    "#오른쪽 눈이 왼쪽보다 코에 더 가까운 경우\n",
    "elif left_dist > right_dist:\n",
    "    lrgo = 'l'\n",
    "else:rot=None\n"
   ]
  },
  {
   "cell_type": "code",
   "execution_count": null,
   "metadata": {},
   "outputs": [],
   "source": [
    "result=[]"
   ]
  },
  {
   "cell_type": "code",
   "execution_count": 47,
   "metadata": {},
   "outputs": [
    {
     "data": {
      "text/plain": [
       "array([498, 315])"
      ]
     },
     "execution_count": 47,
     "metadata": {},
     "output_type": "execute_result"
    }
   ],
   "source": [
    "#어떻게 평가할지가 중요하다.\n",
    "#양 눈의 거리와 nose tip의 위치를 input으로 학습하게 된다면 왼쪽과 오른쪽의 치우침이 구분되지 않을 것이다.\n",
    "#그런데 만약에 카메라가 왼쪽이나 오른쪽으로 치우치게 된다면? nose tip이 왼쪽이나 오른쪽으로 붙을 것이다.\n",
    "#따라서 nosetip이 어느쪽과 더 가까운지를 우선 구해야 한다. 이를 통해 nosetip을 항상 가운데로 맞춰야 한다.\n",
    "#다만 단순히 x값만을 구하는 것이 아니라 종합적인 거리를 구해야 한다.\n",
    "#nosetip을 통해 중앙을 맞추고 nosetip과 좌우 눈의 거리를 측정한 값들을 input으로 하여야 한다.\n",
    "#nosetip의 ideal한 case는 편의상 한 가운데인 0.5,0.5인 이 distance의 거리값을 input으로 주면 된다.\n",
    "#눈과 코의 거리는 너비의 1/10=0.1로 잡으면 될 것 같다.\n",
    "#따라서 \n",
    "#input tensor : (im_size,nose_distance,left_distance,right_distance) \n",
    "#loss : sum input tensor where distance **2\n",
    "#\n",
    "#n+1번째 input 값이 n번째 값의 loss를 결정한다. 그 다음 발전된 모델을 통해 결론을 내려야 한다.\n",
    "#layer자체는 많을 필요는 없을것 같다. RNN구조를 취한다면 그 이전 모델의 속도 또한 구현해 낼 수 있을 것이다."
   ]
  },
  {
   "cell_type": "code",
   "execution_count": 41,
   "metadata": {},
   "outputs": [
    {
     "name": "stdout",
     "output_type": "stream",
     "text": [
      "[498 315]\n",
      "[428 248]\n",
      "[556 212]\n"
     ]
    }
   ],
   "source": [
    "for i in KHAN_L:\n",
    "    print(i)"
   ]
  },
  {
   "cell_type": "code",
   "execution_count": 26,
   "metadata": {},
   "outputs": [
    {
     "data": {
      "text/plain": [
       "{'nose_tip': [(498, 315)],\n",
       " 'left_eye': [(405, 254), (451, 242)],\n",
       " 'right_eye': [(582, 204), (530, 221)]}"
      ]
     },
     "execution_count": 26,
     "metadata": {},
     "output_type": "execute_result"
    }
   ],
   "source": [
    "flmk"
   ]
  },
  {
   "cell_type": "code",
   "execution_count": 30,
   "metadata": {},
   "outputs": [],
   "source": [
    "flmk['nose_tip']=np.array(flmk['nose_tip'][0])\n",
    "flmk['left_eye']=np.array((np.array(flmk['left_eye'][0])+np.array(flmk['left_eye'][1]))*0.5,dtype=np.int32)\n",
    "flmk['right_eye']=np.array((np.array(flmk['right_eye'][0])+np.array(flmk['right_eye'][1]))*0.5,dtype=np.int32)"
   ]
  },
  {
   "cell_type": "code",
   "execution_count": 31,
   "metadata": {},
   "outputs": [
    {
     "data": {
      "text/plain": [
       "{'nose_tip': array([498, 315]),\n",
       " 'left_eye': array([428, 248]),\n",
       " 'right_eye': array([556, 212])}"
      ]
     },
     "execution_count": 31,
     "metadata": {},
     "output_type": "execute_result"
    }
   ],
   "source": [
    "flmk"
   ]
  },
  {
   "cell_type": "code",
   "execution_count": 36,
   "metadata": {},
   "outputs": [
    {
     "ename": "TypeError",
     "evalue": "array() missing required argument 'object' (pos 0)",
     "output_type": "error",
     "traceback": [
      "\u001b[1;31m---------------------------------------------------------------------------\u001b[0m",
      "\u001b[1;31mTypeError\u001b[0m                                 Traceback (most recent call last)",
      "\u001b[1;32m~\\AppData\\Local\\Temp/ipykernel_3196/1872006550.py\u001b[0m in \u001b[0;36m<module>\u001b[1;34m\u001b[0m\n\u001b[1;32m----> 1\u001b[1;33m \u001b[0ma\u001b[0m\u001b[1;33m=\u001b[0m\u001b[0mnp\u001b[0m\u001b[1;33m.\u001b[0m\u001b[0marray\u001b[0m\u001b[1;33m(\u001b[0m\u001b[1;33m)\u001b[0m\u001b[1;33m\u001b[0m\u001b[1;33m\u001b[0m\u001b[0m\n\u001b[0m",
      "\u001b[1;31mTypeError\u001b[0m: array() missing required argument 'object' (pos 0)"
     ]
    }
   ],
   "source": [
    "a=np.array()"
   ]
  },
  {
   "cell_type": "code",
   "execution_count": 35,
   "metadata": {},
   "outputs": [
    {
     "data": {
      "text/plain": [
       "array([3])"
      ]
     },
     "execution_count": 35,
     "metadata": {},
     "output_type": "execute_result"
    }
   ],
   "source": [
    "a"
   ]
  },
  {
   "cell_type": "code",
   "execution_count": null,
   "metadata": {},
   "outputs": [],
   "source": []
  }
 ],
 "metadata": {
  "interpreter": {
   "hash": "ca827eb1b1994a048ef52b08bc13e0e194cabfaae647b979a36b6462058b4dfd"
  },
  "kernelspec": {
   "display_name": "Python 3.7.11 64-bit ('Tello': conda)",
   "name": "python3"
  },
  "language_info": {
   "codemirror_mode": {
    "name": "ipython",
    "version": 3
   },
   "file_extension": ".py",
   "mimetype": "text/x-python",
   "name": "python",
   "nbconvert_exporter": "python",
   "pygments_lexer": "ipython3",
   "version": "3.7.11"
  },
  "orig_nbformat": 4
 },
 "nbformat": 4,
 "nbformat_minor": 2
}
